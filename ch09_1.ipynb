{
 "cells": [
  {
   "cell_type": "code",
   "execution_count": 4,
   "metadata": {},
   "outputs": [],
   "source": [
    "import keras\n",
    "import matplotlib.pyplot as plt\n",
    "import pandas as pd\n",
    "import numpy as np"
   ]
  },
  {
   "cell_type": "code",
   "execution_count": 5,
   "metadata": {},
   "outputs": [],
   "source": [
    "m = 2\n",
    "b = 3\n",
    "x = np.linspace(0, 50, 100)"
   ]
  },
  {
   "cell_type": "code",
   "execution_count": 6,
   "metadata": {},
   "outputs": [
    {
     "data": {
      "text/plain": [
       "array([ 0.        ,  0.50505051,  1.01010101,  1.51515152,  2.02020202,\n",
       "        2.52525253,  3.03030303,  3.53535354,  4.04040404,  4.54545455,\n",
       "        5.05050505,  5.55555556,  6.06060606,  6.56565657,  7.07070707,\n",
       "        7.57575758,  8.08080808,  8.58585859,  9.09090909,  9.5959596 ,\n",
       "       10.1010101 , 10.60606061, 11.11111111, 11.61616162, 12.12121212,\n",
       "       12.62626263, 13.13131313, 13.63636364, 14.14141414, 14.64646465,\n",
       "       15.15151515, 15.65656566, 16.16161616, 16.66666667, 17.17171717,\n",
       "       17.67676768, 18.18181818, 18.68686869, 19.19191919, 19.6969697 ,\n",
       "       20.2020202 , 20.70707071, 21.21212121, 21.71717172, 22.22222222,\n",
       "       22.72727273, 23.23232323, 23.73737374, 24.24242424, 24.74747475,\n",
       "       25.25252525, 25.75757576, 26.26262626, 26.76767677, 27.27272727,\n",
       "       27.77777778, 28.28282828, 28.78787879, 29.29292929, 29.7979798 ,\n",
       "       30.3030303 , 30.80808081, 31.31313131, 31.81818182, 32.32323232,\n",
       "       32.82828283, 33.33333333, 33.83838384, 34.34343434, 34.84848485,\n",
       "       35.35353535, 35.85858586, 36.36363636, 36.86868687, 37.37373737,\n",
       "       37.87878788, 38.38383838, 38.88888889, 39.39393939, 39.8989899 ,\n",
       "       40.4040404 , 40.90909091, 41.41414141, 41.91919192, 42.42424242,\n",
       "       42.92929293, 43.43434343, 43.93939394, 44.44444444, 44.94949495,\n",
       "       45.45454545, 45.95959596, 46.46464646, 46.96969697, 47.47474747,\n",
       "       47.97979798, 48.48484848, 48.98989899, 49.49494949, 50.        ])"
      ]
     },
     "execution_count": 6,
     "metadata": {},
     "output_type": "execute_result"
    }
   ],
   "source": [
    "x"
   ]
  },
  {
   "cell_type": "code",
   "execution_count": 7,
   "metadata": {},
   "outputs": [
    {
     "data": {
      "text/plain": [
       "array([-6.99906189,  1.37072161,  4.61214321, -1.00974415,  3.92528315,\n",
       "        2.05687537,  0.88471868, -4.28017332, -0.75798332,  1.02000578,\n",
       "       -1.83210794,  1.74065395, -2.3343802 ,  3.26738829,  2.69088322,\n",
       "       -0.41764457, -2.12512151,  4.11893074, -1.75254249, -4.47327299,\n",
       "        6.47592664,  6.1664207 , -1.00751656, -3.36974295,  0.73807476,\n",
       "        3.7483288 ,  2.92400138,  5.4462245 , -1.30495224,  0.22270406,\n",
       "        0.88959843, -5.77286798, -3.02540922,  3.26581604,  3.00177905,\n",
       "       -1.82378771,  4.75848907, -6.76246731, -5.4255962 , -4.92973806,\n",
       "       -2.17775665, -2.67268695,  0.02925825, -2.45175494,  5.1989923 ,\n",
       "       -6.93238249, -3.9332404 ,  1.43003101, -6.45431401,  5.88285547,\n",
       "       -4.75207039, -2.19898477, -3.76018465, -3.31172946,  0.43545387,\n",
       "        2.03123836, -3.44890939,  4.99787897, -0.31844498, -3.55892593,\n",
       "       -3.52719356,  0.0745558 ,  0.95137849,  0.05419419, -6.5421176 ,\n",
       "       -4.17683951,  2.45215553,  2.94482085,  4.10768576, -5.72876244,\n",
       "       -7.3647532 ,  1.4643729 , -1.32710854, -2.75687191,  8.13843025,\n",
       "       -2.20285765,  3.00181332, -5.22796936,  2.32229334, -4.41809237,\n",
       "        2.76048588,  2.74756026, -6.26675012,  3.61989649,  3.1152896 ,\n",
       "        1.71293148,  0.43548796,  0.11313454, -2.3153033 , -4.7978048 ,\n",
       "       -6.82380802,  1.47665583,  7.50629371, -1.5076134 ,  7.32774433,\n",
       "        0.01206974, -0.30409386,  0.01583038, -0.74005644, -9.94860614])"
      ]
     },
     "execution_count": 7,
     "metadata": {},
     "output_type": "execute_result"
    }
   ],
   "source": [
    "np.random.seed(100)\n",
    "noise = np.random.normal(loc=0, scale=4, size=len(x))\n",
    "noise"
   ]
  },
  {
   "cell_type": "code",
   "execution_count": 8,
   "metadata": {},
   "outputs": [
    {
     "data": {
      "text/plain": [
       "array([ -3.99906189,   5.38082262,   9.63234523,   5.02055888,\n",
       "        10.96568719,  10.10738042,   9.94532474,   5.79053375,\n",
       "        10.32282476,  13.11091487,  11.26890216,  15.85176506,\n",
       "        12.78683192,  19.39870142,  19.83229736,  17.73387058,\n",
       "        17.03649465,  24.29064791,  19.42927569,  17.71864621,\n",
       "        29.67794684,  30.37854191,  24.21470567,  22.86258028,\n",
       "        27.980499  ,  32.00085406,  32.18662764,  35.71895177,\n",
       "        29.97787605,  32.51563335,  34.19262874,  28.54026333,\n",
       "        32.2978231 ,  39.59914938,  40.34521339,  36.52974764,\n",
       "        44.12212544,  33.61127007,  35.95824219,  37.46420134,\n",
       "        41.22628376,  41.74145447,  45.45350068,  43.98258849,\n",
       "        52.64343674,  41.52216296,  45.53140607,  51.90477849,\n",
       "        45.03053447,  58.37780496,  48.75298012,  52.31616674,\n",
       "        51.76506788,  53.22362408,  57.98090842,  60.58679392,\n",
       "        56.11674718,  65.57363655,  61.2674136 ,  59.03703367,\n",
       "        60.07886705,  64.69071741,  66.57764111,  66.69055783,\n",
       "        61.10434705,  64.47972615,  72.11882219,  73.62158853,\n",
       "        75.79455444,  66.96820725,  66.34231751,  76.18154462,\n",
       "        74.40016419,  73.98050183,  85.88590499,  76.55471811,\n",
       "        82.76949009,  75.54980842,  84.11017213,  78.37988743,\n",
       "        86.56856669,  87.56574208,  79.56153271,  90.45828032,\n",
       "        90.96377445,  90.57151734,  90.30417483,  90.99192242,\n",
       "        89.57358559,  88.1011851 ,  87.08528289,  96.39584775,\n",
       "       103.43558664,  95.43178054, 105.27723928,  98.9716657 ,\n",
       "        99.66560311, 100.99562836, 101.24984255,  93.05139386])"
      ]
     },
     "execution_count": 8,
     "metadata": {},
     "output_type": "execute_result"
    }
   ],
   "source": [
    "y = 2*x + b + noise\n",
    "y"
   ]
  },
  {
   "cell_type": "code",
   "execution_count": 9,
   "metadata": {},
   "outputs": [
    {
     "data": {
      "text/plain": [
       "[<matplotlib.lines.Line2D at 0x295c83d60>]"
      ]
     },
     "execution_count": 9,
     "metadata": {},
     "output_type": "execute_result"
    },
    {
     "data": {
      "image/png": "[encoded data removed]",
      "text/plain": [
       "<Figure size 640x480 with 1 Axes>"
      ]
     },
     "metadata": {},
     "output_type": "display_data"
    }
   ],
   "source": [
    "plt.plot(x, y, '*')"
   ]
  },
  {
   "cell_type": "code",
   "execution_count": 10,
   "metadata": {},
   "outputs": [],
   "source": [
    "from keras.models import Sequential\n",
    "from keras.layers import Dense"
   ]
  },
  {
   "cell_type": "code",
   "execution_count": 11,
   "metadata": {},
   "outputs": [
    {
     "name": "stdout",
     "output_type": "stream",
     "text": [
      "Model: \"sequential\"\n",
      "_________________________________________________________________\n",
      " Layer (type)                Output Shape              Param #   \n",
      "=================================================================\n",
      " dense (Dense)               (None, 4)                 8         \n",
      "                                                                 \n",
      " dense_1 (Dense)             (None, 4)                 20        \n",
      "                                                                 \n",
      " dense_2 (Dense)             (None, 1)                 5         \n",
      "                                                                 \n",
      "=================================================================\n",
      "Total params: 33\n",
      "Trainable params: 33\n",
      "Non-trainable params: 0\n",
      "_________________________________________________________________\n"
     ]
    }
   ],
   "source": [
    "model = Sequential()\n",
    "model.add(Dense(4, input_dim=1, activation='relu'))\n",
    "model.add(Dense(4, activation='relu'))\n",
    "model.add(Dense(1, activation='linear'))\n",
    "\n",
    "opt = keras.optimizers.Adam(learning_rate=0.01)\n",
    "model.compile(loss='mse', optimizer=opt)\n",
    "model.summary()"
   ]
  },
  {
   "cell_type": "code",
   "execution_count": 12,
   "metadata": {},
   "outputs": [
    {
     "name": "stdout",
     "output_type": "stream",
     "text": [
      "Epoch 1/30\n",
      "4/4 [==============================] - 0s 1ms/step - loss: 2992.2668\n",
      "Epoch 2/30\n",
      "4/4 [==============================] - 0s 837us/step - loss: 2644.9937\n",
      "Epoch 3/30\n",
      "4/4 [==============================] - 0s 851us/step - loss: 2260.4885\n",
      "Epoch 4/30\n",
      "4/4 [==============================] - 0s 918us/step - loss: 1834.0682\n",
      "Epoch 5/30\n",
      "4/4 [==============================] - 0s 1ms/step - loss: 1389.1466\n",
      "Epoch 6/30\n",
      "4/4 [==============================] - 0s 1ms/step - loss: 931.6868\n",
      "Epoch 7/30\n",
      "4/4 [==============================] - 0s 844us/step - loss: 510.7108\n",
      "Epoch 8/30\n",
      "1/4 [======>.......................] - ETA: 0s - loss: 261.9949"
     ]
    },
    {
     "name": "stderr",
     "output_type": "stream",
     "text": [
      "2023-01-04 22:07:50.809968: W tensorflow/core/platform/profile_utils/cpu_utils.cc:128] Failed to get CPU frequency: 0 Hz\n"
     ]
    },
    {
     "name": "stdout",
     "output_type": "stream",
     "text": [
      "4/4 [==============================] - 0s 997us/step - loss: 192.9309\n",
      "Epoch 9/30\n",
      "4/4 [==============================] - 0s 934us/step - loss: 33.0924\n",
      "Epoch 10/30\n",
      "4/4 [==============================] - 0s 832us/step - loss: 35.1253\n",
      "Epoch 11/30\n",
      "4/4 [==============================] - 0s 928us/step - loss: 94.8170\n",
      "Epoch 12/30\n",
      "4/4 [==============================] - 0s 1ms/step - loss: 102.4650\n",
      "Epoch 13/30\n",
      "4/4 [==============================] - 0s 1ms/step - loss: 58.1778\n",
      "Epoch 14/30\n",
      "4/4 [==============================] - 0s 848us/step - loss: 23.2047\n",
      "Epoch 15/30\n",
      "4/4 [==============================] - 0s 909us/step - loss: 16.4358\n",
      "Epoch 16/30\n",
      "4/4 [==============================] - 0s 834us/step - loss: 23.0219\n",
      "Epoch 17/30\n",
      "4/4 [==============================] - 0s 826us/step - loss: 27.1058\n",
      "Epoch 18/30\n",
      "4/4 [==============================] - 0s 2ms/step - loss: 24.3285\n",
      "Epoch 19/30\n",
      "4/4 [==============================] - 0s 957us/step - loss: 18.0913\n",
      "Epoch 20/30\n",
      "4/4 [==============================] - 0s 807us/step - loss: 15.4473\n",
      "Epoch 21/30\n",
      "4/4 [==============================] - 0s 858us/step - loss: 16.7186\n",
      "Epoch 22/30\n",
      "4/4 [==============================] - 0s 1ms/step - loss: 17.4020\n",
      "Epoch 23/30\n",
      "4/4 [==============================] - 0s 802us/step - loss: 16.5713\n",
      "Epoch 24/30\n",
      "4/4 [==============================] - 0s 812us/step - loss: 15.3038\n",
      "Epoch 25/30\n",
      "4/4 [==============================] - 0s 765us/step - loss: 15.2469\n",
      "Epoch 26/30\n",
      "4/4 [==============================] - 0s 839us/step - loss: 15.7534\n",
      "Epoch 27/30\n",
      "4/4 [==============================] - 0s 754us/step - loss: 15.6982\n",
      "Epoch 28/30\n",
      "4/4 [==============================] - 0s 779us/step - loss: 15.3453\n",
      "Epoch 29/30\n",
      "4/4 [==============================] - 0s 818us/step - loss: 15.2256\n",
      "Epoch 30/30\n",
      "4/4 [==============================] - 0s 824us/step - loss: 15.3743\n"
     ]
    },
    {
     "data": {
      "text/plain": [
       "<keras.callbacks.History at 0x296bc0850>"
      ]
     },
     "execution_count": 12,
     "metadata": {},
     "output_type": "execute_result"
    }
   ],
   "source": [
    "model.fit(x, y, epochs=30)"
   ]
  },
  {
   "cell_type": "code",
   "execution_count": 13,
   "metadata": {},
   "outputs": [
    {
     "data": {
      "text/plain": [
       "[<matplotlib.lines.Line2D at 0x296da8a30>]"
      ]
     },
     "execution_count": 13,
     "metadata": {},
     "output_type": "execute_result"
    },
    {
     "data": {
      "image/png": "[encoded data removed]",
      "text/plain": [
       "<Figure size 640x480 with 1 Axes>"
      ]
     },
     "metadata": {},
     "output_type": "display_data"
    }
   ],
   "source": [
    "loss = model.history.history['loss']\n",
    "epochs = range(len(loss))\n",
    "\n",
    "plt.plot(epochs, loss)"
   ]
  },
  {
   "cell_type": "code",
   "execution_count": 14,
   "metadata": {},
   "outputs": [
    {
     "name": "stdout",
     "output_type": "stream",
     "text": [
      "4/4 [==============================] - 0s 943us/step\n"
     ]
    },
    {
     "data": {
      "text/plain": [
       "array([[  2.148499 ],\n",
       "       [  3.1692023],\n",
       "       [  4.189906 ],\n",
       "       [  5.21061  ],\n",
       "       [  6.2313137],\n",
       "       [  7.2520175],\n",
       "       [  8.272721 ],\n",
       "       [  9.293425 ],\n",
       "       [ 10.314129 ],\n",
       "       [ 11.334832 ],\n",
       "       [ 12.355536 ],\n",
       "       [ 13.37624  ],\n",
       "       [ 14.396942 ],\n",
       "       [ 15.417648 ],\n",
       "       [ 16.43835  ],\n",
       "       [ 17.459055 ],\n",
       "       [ 18.479757 ],\n",
       "       [ 19.500462 ],\n",
       "       [ 20.521166 ],\n",
       "       [ 21.54187  ],\n",
       "       [ 22.562574 ],\n",
       "       [ 23.583275 ],\n",
       "       [ 24.60398  ],\n",
       "       [ 25.624683 ],\n",
       "       [ 26.645386 ],\n",
       "       [ 27.66609  ],\n",
       "       [ 28.686794 ],\n",
       "       [ 29.707499 ],\n",
       "       [ 30.7282   ],\n",
       "       [ 31.748905 ],\n",
       "       [ 32.769608 ],\n",
       "       [ 33.79031  ],\n",
       "       [ 34.811012 ],\n",
       "       [ 35.83172  ],\n",
       "       [ 36.85242  ],\n",
       "       [ 37.873123 ],\n",
       "       [ 38.89383  ],\n",
       "       [ 39.914536 ],\n",
       "       [ 40.935238 ],\n",
       "       [ 41.955944 ],\n",
       "       [ 42.976646 ],\n",
       "       [ 43.99735  ],\n",
       "       [ 45.018055 ],\n",
       "       [ 46.038757 ],\n",
       "       [ 47.059456 ],\n",
       "       [ 48.080162 ],\n",
       "       [ 49.10087  ],\n",
       "       [ 50.12157  ],\n",
       "       [ 51.142273 ],\n",
       "       [ 52.162983 ],\n",
       "       [ 53.183685 ],\n",
       "       [ 54.204384 ],\n",
       "       [ 55.225094 ],\n",
       "       [ 56.245796 ],\n",
       "       [ 57.266502 ],\n",
       "       [ 58.287205 ],\n",
       "       [ 59.307903 ],\n",
       "       [ 60.3286   ],\n",
       "       [ 61.349316 ],\n",
       "       [ 62.370014 ],\n",
       "       [ 63.390724 ],\n",
       "       [ 64.411415 ],\n",
       "       [ 65.43212  ],\n",
       "       [ 66.45283  ],\n",
       "       [ 67.473526 ],\n",
       "       [ 68.49423  ],\n",
       "       [ 69.51494  ],\n",
       "       [ 70.53564  ],\n",
       "       [ 71.55634  ],\n",
       "       [ 72.57705  ],\n",
       "       [ 73.59775  ],\n",
       "       [ 74.618454 ],\n",
       "       [ 75.63917  ],\n",
       "       [ 76.65987  ],\n",
       "       [ 77.68057  ],\n",
       "       [ 78.70127  ],\n",
       "       [ 79.72198  ],\n",
       "       [ 80.74268  ],\n",
       "       [ 81.76338  ],\n",
       "       [ 82.78409  ],\n",
       "       [ 83.804794 ],\n",
       "       [ 84.82551  ],\n",
       "       [ 85.8462   ],\n",
       "       [ 86.866905 ],\n",
       "       [ 87.88761  ],\n",
       "       [ 88.90832  ],\n",
       "       [ 89.929016 ],\n",
       "       [ 90.949715 ],\n",
       "       [ 91.97042  ],\n",
       "       [ 92.99112  ],\n",
       "       [ 94.01182  ],\n",
       "       [ 95.03253  ],\n",
       "       [ 96.05323  ],\n",
       "       [ 97.073944 ],\n",
       "       [ 98.09464  ],\n",
       "       [ 99.11534  ],\n",
       "       [100.13605  ],\n",
       "       [101.15675  ],\n",
       "       [102.17745  ],\n",
       "       [103.19816  ]], dtype=float32)"
      ]
     },
     "execution_count": 14,
     "metadata": {},
     "output_type": "execute_result"
    }
   ],
   "source": [
    "x_pred = np.linspace(0, 50, 100)\n",
    "\n",
    "y_pred = model.predict(x_pred)\n",
    "y_pred"
   ]
  },
  {
   "cell_type": "code",
   "execution_count": 15,
   "metadata": {},
   "outputs": [
    {
     "data": {
      "text/plain": [
       "[<matplotlib.lines.Line2D at 0x29743db50>]"
      ]
     },
     "execution_count": 15,
     "metadata": {},
     "output_type": "execute_result"
    },
    {
     "data": {
      "image/png": "[encoded data removed]",
      "text/plain": [
       "<Figure size 640x480 with 1 Axes>"
      ]
     },
     "metadata": {},
     "output_type": "display_data"
    }
   ],
   "source": [
    "plt.plot(x, y, \"*\")\n",
    "plt.plot(x_pred, y_pred, 'r')"
   ]
  },
  {
   "cell_type": "code",
   "execution_count": 16,
   "metadata": {},
   "outputs": [],
   "source": [
    "from sklearn.metrics import mean_squared_error"
   ]
  },
  {
   "cell_type": "code",
   "execution_count": 17,
   "metadata": {},
   "outputs": [
    {
     "data": {
      "text/plain": [
       "15.316788719152639"
      ]
     },
     "execution_count": 17,
     "metadata": {},
     "output_type": "execute_result"
    }
   ],
   "source": [
    "mean_squared_error(y, y_pred)"
   ]
  },
  {
   "cell_type": "code",
   "execution_count": null,
   "metadata": {},
   "outputs": [],
   "source": []
  }
 ],
 "metadata": {
  "kernelspec": {
   "display_name": "base",
   "language": "python",
   "name": "python3"
  },
  "language_info": {
   "codemirror_mode": {
    "name": "ipython",
    "version": 3
   },
   "file_extension": ".py",
   "mimetype": "text/x-python",
   "name": "python",
   "nbconvert_exporter": "python",
   "pygments_lexer": "ipython3",
   "version": "3.9.15"
  },
  "orig_nbformat": 4,
  "vscode": {
   "interpreter": {
    "hash": "38cca0c38332a56087b24af0bc80247f4fced29cb4f7f437d91dc159adec9c4e"
   }
  }
 },
 "nbformat": 4,
 "nbformat_minor": 2
}
